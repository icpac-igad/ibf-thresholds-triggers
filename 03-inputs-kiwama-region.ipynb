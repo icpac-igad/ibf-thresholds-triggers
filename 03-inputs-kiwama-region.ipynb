{
 "cells": [
  {
   "cell_type": "code",
   "execution_count": null,
   "id": "50763737-f1f4-4b6d-9660-f5a3b8c25b62",
   "metadata": {},
   "outputs": [],
   "source": [
    "import os\n",
    "from dotenv import load_dotenv\n",
    "\n",
    "import climpred\n",
    "import xarray as xr\n",
    "import xesmf as xe\n",
    "import numpy as np\n",
    "import pandas as pd\n",
    "import regionmask\n",
    "import geopandas as gp\n",
    "from climpred import HindcastEnsemble\n",
    "from datetime import datetime\n"
   ]
  },
  {
   "cell_type": "code",
   "execution_count": null,
   "id": "aa4a748c-e060-4372-9a4f-d173e5b5229a",
   "metadata": {},
   "outputs": [],
   "source": [
    "load_dotenv()\n",
    "\n",
    "data_path = os,getenv(\"data_path\")"
   ]
  },
  {
   "cell_type": "markdown",
   "id": "bff32788-208a-4e5a-b033-7d95223dc085",
   "metadata": {},
   "source": [
    "## Steps in the Code\n",
    "\n",
    "1. **Environment Setup:**\n",
    "   - Loads environment variables, including the data path, using dotenv.\n",
    "   \n",
    "2. **Data Retrieval and Preprocessing (SPI-3):**\n",
    "   - Opens the SPI-3 forecast dataset (`ea_seas51_spi3_xclim_20240306.nc`) and selects the region of interest based on latitude and longitude bounds.\n",
    "   - Renames longitude and latitude dimensions to `lon` and `lat` respectively.\n",
    "   - Opens the SPI-3 observed dataset (`ea_chrips_spi3_xclim_20240306.nc`) and selects the region of interest.\n",
    "   - Sets up containers for regridding data.\n",
    "   - Iterates over lead times, performs bilinear regridding of forecast SPI-3 data to match observed grid, and saves the regridded dataset.\n",
    "   - Concatenates regridded forecast SPI-3 data along the lead dimension and saves it.\n",
    "   - Saves observed SPI-3 data.\n",
    "   \n",
    "3. **Data Retrieval and Preprocessing (SPI-4):**\n",
    "   - Opens the SPI-4 forecast dataset (`ea_seas51_spi4_xclim_20240306.nc`) and selects the region of interest based on latitude and longitude bounds.\n",
    "   - Renames longitude and latitude dimensions to `lon` and `lat` respectively.\n",
    "   - Opens the SPI-4 observed dataset (`ea_chrips_spi4_xclim_20240306.nc`) and selects the region of interest.\n",
    "   - Sets up containers for regridding data.\n",
    "   - Iterates over lead times, performs bilinear regridding of forecast SPI-4 data to match observed grid, and saves the regridded dataset.\n",
    "   - Concatenates regridded forecast SPI-4 data along the lead dimension and saves it.\n",
    "   - Saves observed SPI-4 data."
   ]
  },
  {
   "cell_type": "markdown",
   "id": "025e20d4-6a43-4d88-ab59-5b1d3ea24c2d",
   "metadata": {},
   "source": [
    "## for SPI3"
   ]
  },
  {
   "cell_type": "code",
   "execution_count": null,
   "id": "f5033246-287a-4795-8499-1536ce738502",
   "metadata": {},
   "outputs": [],
   "source": [
    "llat=-2.5\n",
    "llon=30.0\n",
    "ulat=7.5\n",
    "ulon=42.5\n",
    "\n",
    "fcst=xr.open_dataset(f'{data_path}ea_seas51_spi3_xclim_20240306.nc')\n",
    "kn_fc=fcst.sel(longitude=slice(llon, ulon), latitude=slice(ulat,llat))\n",
    "\n",
    "\n",
    "fc_llon = kn_fc.longitude.min().values\n",
    "fc_ulon = kn_fc.longitude.max().values\n",
    "fc_llat = kn_fc.latitude.min().values\n",
    "fc_ulat = kn_fc.latitude.max().values\n",
    "\n",
    "obs=xr.open_dataset(f'{data_path}ea_chrips_spi3_xclim_20240306.nc')\n",
    "kn_obs=obs.sel(lon=slice(fc_llon, fc_ulon), lat=slice( fc_llat,fc_ulat))\n",
    "#kn_obs['lon']\n",
    "\n",
    "cont_d=[]\n",
    "\n",
    "for fm in [0,1,2,3,4,5]:\n",
    "    ds_p_m1=kn_fc.sel(lead=fm)\n",
    "    ds_out = xr.Dataset(\n",
    "          {\"lat\": ([\"lat\"], kn_obs['lat'].values, {\"units\": \"degrees_north\"}),\n",
    "          \"lon\": ([\"lon\"], kn_obs['lon'].values, {\"units\": \"degrees_east\"}),})\n",
    "    gd2=ds_p_m1.rename({'longitude':'lon','latitude':'lat'})\n",
    "    agd = gd2[\"spi3\"]\n",
    "    regridder = xe.Regridder(gd2, ds_out, \"bilinear\")\n",
    "    dr_out = regridder(agd, keep_attrs=True)\n",
    "    ds2=dr_out.to_dataset()\n",
    "    cont_d.append(ds2)\n",
    "    #monthname=mnl.lower().split('.')[0]\n",
    "    #ds2.to_netcdf(f'{output_path_location}kmj_25km_lt_month_{fm}.nc')\n",
    "    \n",
    "kn_fct = xr.concat(cont_d, dim='lead')\n",
    "kn_fct=kn_fct.rename({'time':'init','forecastMonth':'lead'})\n",
    "#ld1 = ld.rename({'time':'init','forecastMonth':'lead'}).set_index(init='time', lead='forecastMonth')\n",
    "#ld1 = ld.swap_dims({'time': 'init', 'forecastMonth': 'lead'})\n",
    "kn_fct['lead'].attrs['units'] = 'months'\n",
    "\n",
    "\n",
    "#output\n",
    "kn_fct.to_netcdf(f'{data_path}kn_fct_spi3.nc')\n",
    "kn_obs.to_netcdf(f'{data_path}kn_obs_spi3.nc')"
   ]
  },
  {
   "cell_type": "markdown",
   "id": "0e18cf43-9590-4886-b19a-4c93364573d7",
   "metadata": {},
   "source": [
    "## for SPI4"
   ]
  },
  {
   "cell_type": "code",
   "execution_count": null,
   "id": "6a75569c-b836-4a09-a026-09dde6098906",
   "metadata": {},
   "outputs": [],
   "source": [
    "fcst=xr.open_dataset(f'{data_path}ea_seas51_spi4_xclim_20240306.nc')\n",
    "kn_fc=fcst.sel(longitude=slice(llon, ulon), latitude=slice(ulat,llat))\n",
    "\n",
    "\n",
    "fc_llon = kn_fc.longitude.min().values\n",
    "fc_ulon = kn_fc.longitude.max().values\n",
    "fc_llat = kn_fc.latitude.min().values\n",
    "fc_ulat = kn_fc.latitude.max().values\n",
    "\n",
    "obs=xr.open_dataset(f'{data_path}ea_chrips_spi4_xclim_20240306.nc')\n",
    "kn_obs=obs.sel(lon=slice(fc_llon, fc_ulon), lat=slice( fc_llat,fc_ulat))\n",
    "#kn_obs['lon']\n",
    "\n",
    "cont_d=[]\n",
    "\n",
    "for fm in [0,1,2,3,4,5]:\n",
    "    ds_p_m1=kn_fc.sel(lead=fm)\n",
    "    ds_out = xr.Dataset(\n",
    "          {\"lat\": ([\"lat\"], kn_obs['lat'].values, {\"units\": \"degrees_north\"}),\n",
    "          \"lon\": ([\"lon\"], kn_obs['lon'].values, {\"units\": \"degrees_east\"}),})\n",
    "    gd2=ds_p_m1.rename({'longitude':'lon','latitude':'lat'})\n",
    "    agd = gd2[\"spi4\"]\n",
    "    regridder = xe.Regridder(gd2, ds_out, \"bilinear\")\n",
    "    dr_out = regridder(agd, keep_attrs=True)\n",
    "    ds2=dr_out.to_dataset()\n",
    "    cont_d.append(ds2)\n",
    "    #monthname=mnl.lower().split('.')[0]\n",
    "    #ds2.to_netcdf(f'{output_path_location}kmj_25km_lt_month_{fm}.nc')\n",
    "    \n",
    "kn_fct = xr.concat(cont_d, dim='lead')\n",
    "kn_fct=kn_fct.rename({'time':'init','forecastMonth':'lead'})\n",
    "#ld1 = ld.rename({'time':'init','forecastMonth':'lead'}).set_index(init='time', lead='forecastMonth')\n",
    "#ld1 = ld.swap_dims({'time': 'init', 'forecastMonth': 'lead'})\n",
    "kn_fct['lead'].attrs['units'] = 'months'\n",
    "\n",
    "\n",
    "#output\n",
    "kn_fct.to_netcdf(f'{data_path}kn_fct_spi4.nc')\n",
    "kn_obs.to_netcdf(f'{data_path}kn_obs_spi4.nc')"
   ]
  }
 ],
 "metadata": {
  "kernelspec": {
   "display_name": "Python 3 (ipykernel)",
   "language": "python",
   "name": "python3"
  },
  "language_info": {
   "codemirror_mode": {
    "name": "ipython",
    "version": 3
   },
   "file_extension": ".py",
   "mimetype": "text/x-python",
   "name": "python",
   "nbconvert_exporter": "python",
   "pygments_lexer": "ipython3",
   "version": "3.11.7"
  }
 },
 "nbformat": 4,
 "nbformat_minor": 5
}
