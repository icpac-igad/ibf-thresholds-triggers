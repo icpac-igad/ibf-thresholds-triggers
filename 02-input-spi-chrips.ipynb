{
 "cells": [
  {
   "cell_type": "code",
   "execution_count": null,
   "id": "b028915a-8d7b-4ef4-8d32-d5aaa19b52ef",
   "metadata": {},
   "outputs": [],
   "source": [
    "from dotenv import load_dotenv\n",
    "import os\n",
    "\n",
    "import xesmf as xe\n",
    "import xarray as xr\n",
    "import dask.array as da\n",
    "\n",
    "from xclim.testing import open_dataset\n",
    "from xclim.indices.stats import standardized_index_fit_params\n",
    "from xclim.indices import standardized_precipitation_index\n",
    "\n",
    "\n",
    "\n",
    "from dask.distributed import Client\n",
    "from dateutil.relativedelta import relativedelta\n",
    "from calendar import monthrange\n",
    "import pandas as pd\n",
    "\n",
    "from distributed import Client"
   ]
  },
  {
   "cell_type": "code",
   "execution_count": null,
   "id": "67581f39-2387-4ab9-823d-e97515474f13",
   "metadata": {},
   "outputs": [],
   "source": [
    "load_dotenv()\n",
    "\n",
    "data_path=os.getenv(\"data_path\")"
   ]
  },
  {
   "cell_type": "markdown",
   "id": "9b0a0a9d-a2be-473b-9201-d431b4533fdb",
   "metadata": {
    "tags": []
   },
   "source": [
    "## Steps in the Code\n",
    "\n",
    "1. **Environment Setup:**\n",
    "   - Loads environment variables, including the data path, using dotenv.\n",
    "   \n",
    "2. **Data Retrieval and Preprocessing:**\n",
    "   - Loads CHIRPS dataset from the specified data path.\n",
    "   - Defines latitude and longitude bounds for the region of interest.\n",
    "   - Subsets the dataset based on the defined bounds and saves the subset as `ea-chirps-v2.0.monthly.nc`.\n",
    "   - Renames longitude and latitude dimensions to `lon` and `lat` respectively.\n",
    "   - Defines a new grid for regridding CHIRPS data to a regular grid with specified latitudes and longitudes.\n",
    "   - Performs bilinear regridding of CHIRPS data to the new grid and saves the regridded dataset as `ea-km25-chirps-v2.0.monthly.nc`.\n",
    "   \n",
    "3. **Dask Client Setup:**\n",
    "   - Initializes a Dask distributed client for parallel computation with specified number of workers, threads per worker, and memory limit.\n",
    "   \n",
    "4. **Standardized Precipitation Index (SPI) Calculation (3-month window):**\n",
    "   - Loads the regridded CHIRPS dataset.\n",
    "   - Sets units attribute for precipitation data.\n",
    "   - Chunks the dataset along the time dimension.\n",
    "   - Calculates SPI with a 3-month window using xclim library.\n",
    "   - Computes SPI values.\n",
    "   - Saves SPI values as a NetCDF file named `ea_chrips_spi3_xclim_20240306.nc`.\n",
    "   \n",
    "5. **Standardized Precipitation Index (SPI) Calculation (4-month window):**\n",
    "   - Loads the regridded CHIRPS dataset.\n",
    "   - Sets units attribute for precipitation data.\n",
    "   - Chunks the dataset along the time dimension.\n",
    "   - Calculates SPI with a 4-month window using xclim library.\n",
    "   - Computes SPI values.\n",
    "   - Saves SPI values as a NetCDF file named `ea_chrips_spi4_xclim_20240306.nc`.\n",
    "   \n",
    "6. **Client Shutdown:**\n",
    "   - Closes the Dask client.\n"
   ]
  },
  {
   "cell_type": "code",
   "execution_count": null,
   "id": "ed5e0377-7595-48e6-9e83-9b108b77f454",
   "metadata": {},
   "outputs": [],
   "source": [
    "#wget https://data.chc.ucsb.edu/products/CHIRPS-2.0/global_monthly/netcdf/chirps-v2.0.monthly.nc"
   ]
  },
  {
   "cell_type": "code",
   "execution_count": null,
   "id": "eb899dc6-9e7d-4681-b61a-6324786b1445",
   "metadata": {},
   "outputs": [],
   "source": [
    "# Define the bounds of your region of interest\n",
    "ds=xr.open_dataset(f'{data_path}chirps-v2.0.monthly.nc')\n",
    "\n",
    "lat_min, lat_max = 20, 55  # Example latitude bounds\n",
    "lon_min, lon_max = -15, 25  # Example longitude bounds\n",
    "\n",
    "# Subset the dataset for the region of interest\n",
    "subset_ds = ds.sel(lat=slice(lat_min, lat_max), lon=slice(lon_min, lon_max))\n",
    "subset_ds.to_netcdf(f'{data_path}ea-chirps-v2.0.monthly.nc')"
   ]
  },
  {
   "cell_type": "code",
   "execution_count": null,
   "id": "d7173066-67c9-431a-87c5-87ee85de0503",
   "metadata": {},
   "outputs": [],
   "source": [
    "ds=xr.open_dataset(f'{data_path}ea-chirps-v2.0.monthly.nc')\n",
    "ds1=ds.rename({'longitude':'lon','latitude':'lat'})\n",
    "dr = ds1[\"precip\"] \n",
    "ds_out = xr.Dataset(\n",
    "      {\"lat\": ([\"lat\"], np.arange(-15.0, 25.0, 0.25), {\"units\": \"degrees_north\"}),\n",
    "      \"lon\": ([\"lon\"], np.arange(20, 55, 0.25), {\"units\": \"degrees_east\"}),})\n",
    "regridder = xe.Regridder(ds1, ds_out, \"bilinear\")\n",
    "regridder  # print basic regridder information.\n",
    "dr_out = regridder(dr, keep_attrs=True)\n",
    "ds2=dr_out.to_dataset()\n",
    "ds2.to_netcdf(f'{data_path}ea-km25-chirps-v2.0.monthly.nc')"
   ]
  },
  {
   "cell_type": "code",
   "execution_count": null,
   "id": "f6ed69c0-4448-446a-8e39-aec8422df12c",
   "metadata": {},
   "outputs": [],
   "source": [
    "# Depending on your workstation specifications, you may need to adjust these values.\n",
    "# On a single machine, n_workers=1 is usually better.\n",
    "client = Client(n_workers=3, threads_per_worker=4, memory_limit=\"2GB\")\n",
    "client"
   ]
  },
  {
   "cell_type": "markdown",
   "id": "3bdfab95-caf5-432f-b3b6-33a8557282c1",
   "metadata": {},
   "source": [
    "## SPI3"
   ]
  },
  {
   "cell_type": "code",
   "execution_count": null,
   "id": "369485b7-bd2e-4496-b2fe-3629f3a18e2d",
   "metadata": {},
   "outputs": [],
   "source": [
    "ch_ds=xr.open_dataset(f'{data_path}ea-km25-chirps-v2.0.monthly.nc')\n",
    "\n",
    "ch_ds['precip'].attrs['units'] = 'mm/month'\n",
    "ch_ds1 = ch_ds.chunk(-1)\n",
    "aa=ch_ds1.precip\n",
    "spi_3 = standardized_precipitation_index(\n",
    "     aa,\n",
    "     freq=\"MS\",\n",
    "     window=3,\n",
    "     dist=\"gamma\",\n",
    "     method=\"APP\",\n",
    "     cal_start='1991-01-01',\n",
    "     cal_end='2018-01-01',\n",
    ")\n",
    "\n",
    "a_s3=spi_3.compute()"
   ]
  },
  {
   "cell_type": "code",
   "execution_count": null,
   "id": "dd0999f1-c947-47a5-a960-fb9eb61423ec",
   "metadata": {},
   "outputs": [],
   "source": [
    "ch_spi= a_s3.to_dataset(name='spi3')\n",
    "ch_spi.spi3.nbytes / (1024*1024)\n",
    "#input_path\n",
    "ch_spi.to_netcdf(f'{data_path}ea_chrips_spi3_xclim_20240306.nc')"
   ]
  },
  {
   "cell_type": "markdown",
   "id": "6bc0d6e2-7631-461a-a568-8228437776e8",
   "metadata": {
    "tags": []
   },
   "source": [
    "## SPI4"
   ]
  },
  {
   "cell_type": "code",
   "execution_count": null,
   "id": "f29f79be-22b1-497d-af77-0237279d9f57",
   "metadata": {},
   "outputs": [],
   "source": [
    "ch_ds['precip'].attrs['units'] = 'mm/month'\n",
    "ch_ds1 = ch_ds.chunk(-1)\n",
    "aa=ch_ds1.precip\n",
    "spi_4 = standardized_precipitation_index(\n",
    "     aa,\n",
    "     freq=\"MS\",\n",
    "     window=4,\n",
    "     dist=\"gamma\",\n",
    "     method=\"APP\",\n",
    "     cal_start='1991-01-01',\n",
    "     cal_end='2018-01-01',\n",
    ")\n",
    "\n",
    "a_s4=spi_4.compute()\n",
    "\n",
    "ch_spi4= a_s4.to_dataset(name='spi4')\n",
    "ch_spi4.spi4.nbytes / (1024*1024)\n",
    "#input_path\n",
    "ch_spi4.to_netcdf(f'{data_path}ea_chrips_spi4_xclim_20240306.nc')"
   ]
  },
  {
   "cell_type": "code",
   "execution_count": null,
   "id": "e19ea862-d790-4e2b-b102-87b73d3048c8",
   "metadata": {},
   "outputs": [],
   "source": [
    "client.close()"
   ]
  }
 ],
 "metadata": {
  "kernelspec": {
   "display_name": "Python 3 (ipykernel)",
   "language": "python",
   "name": "python3"
  },
  "language_info": {
   "codemirror_mode": {
    "name": "ipython",
    "version": 3
   },
   "file_extension": ".py",
   "mimetype": "text/x-python",
   "name": "python",
   "nbconvert_exporter": "python",
   "pygments_lexer": "ipython3",
   "version": "3.11.7"
  }
 },
 "nbformat": 4,
 "nbformat_minor": 5
}
